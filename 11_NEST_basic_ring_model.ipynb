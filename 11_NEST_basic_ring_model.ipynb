{
 "cells": [
  {
   "cell_type": "code",
   "execution_count": 1,
   "id": "35fa19d6",
   "metadata": {},
   "outputs": [
    {
     "name": "stdout",
     "output_type": "stream",
     "text": [
      "\n",
      "              -- N E S T --\n",
      "  Copyright (C) 2004 The NEST Initiative\n",
      "\n",
      " Version: 3.3\n",
      " Built: Nov  6 2022 20:23:54\n",
      "\n",
      " This program is provided AS IS and comes with\n",
      " NO WARRANTY. See the file LICENSE for details.\n",
      "\n",
      " Problems or suggestions?\n",
      "   Visit https://www.nest-simulator.org\n",
      "\n",
      " Type 'nest.help()' to find out more about NEST.\n",
      "\n"
     ]
    }
   ],
   "source": [
    "import numpy as np\n",
    "import pandas as pd\n",
    "import matplotlib.pyplot as plt\n",
    "import scipy.stats\n",
    "\n",
    "import nest\n",
    "\n",
    "seed = np.random.randint(0,1e9)\n",
    "nest.SetKernelStatus({'rng_seed':seed})"
   ]
  },
  {
   "cell_type": "code",
   "execution_count": 2,
   "id": "09554b60",
   "metadata": {},
   "outputs": [],
   "source": [
    "N = N_ex = N_in = N_cj = 180  # number of neurons in each ring\n",
    "ms = 1e-3\n",
    "T = 10/ms                      # simulation time in ms\n",
    "\n",
    "mu = 0.5\n",
    "sigma = 0.12\n",
    "delay = 0.1\n",
    "\n",
    "base_ex = 4000\n",
    "base_in = 450\n",
    "base_cj_ex = 169\n",
    "weight_ex_cj = 660"
   ]
  },
  {
   "cell_type": "code",
   "execution_count": 3,
   "id": "35ac0cca",
   "metadata": {},
   "outputs": [],
   "source": [
    "I_init = 300.0 #pA\n",
    "I_init_dur = 100.0 #ms\n",
    "I_init_pos = int(N_ex//2)"
   ]
  },
  {
   "cell_type": "code",
   "execution_count": 4,
   "id": "13577fbe",
   "metadata": {},
   "outputs": [],
   "source": [
    "pop_ex = nest.Create('iaf_psc_alpha', N_ex, params={'I_e': 450.})\n",
    "pop_in = nest.Create('iaf_psc_alpha', N_in)\n",
    "\n",
    "turn_left = nest.Create('iaf_psc_alpha', N_cj)\n",
    "turn_right = nest.Create('iaf_psc_alpha', N_cj)"
   ]
  },
  {
   "cell_type": "code",
   "execution_count": 5,
   "id": "c0a05c8e",
   "metadata": {},
   "outputs": [],
   "source": [
    "# connections between excitatory and inhibitory rings\n",
    "w_ex = np.empty((N_in,N_ex))\n",
    "w_in = np.empty((N_ex,N_in))\n",
    "\n",
    "for e in range(N_ex):\n",
    "    for i in range(N_in):\n",
    "        d1 = np.abs(e/N_ex - i/N_in)\n",
    "        d2 = np.abs(e/N_ex - i/N_in - 1)\n",
    "        d3 = np.abs(e/N_ex - i/N_in + 1)\n",
    "        \n",
    "        d = min(d1,d2,d3)\n",
    "         \n",
    "        w_ex[i,e] = base_ex * np.exp(-d**2/(2*sigma**2))\n",
    "        w_in[e,i] = base_in * np.exp(-(d - mu)**2/(2*sigma**2)) \n",
    "            \n",
    "w_ex[w_ex<10]=0\n",
    "w_in[w_in<10]=0"
   ]
  },
  {
   "cell_type": "code",
   "execution_count": 6,
   "id": "11a41990",
   "metadata": {},
   "outputs": [],
   "source": [
    "# connections between conjuntive layers and excitatory ring\n",
    "w_l = np.empty((N_ex,N_cj))\n",
    "w_r = np.empty((N_ex,N_cj))\n",
    "\n",
    "for c in range(N_cj):  \n",
    "    for e in range(N_ex):\n",
    "        d1 = np.abs((e-1)/N_ex - c/N_cj)\n",
    "        d2 = np.abs((e-1)/N_ex - c/N_cj -1)\n",
    "        d3 = np.abs((e-1)/N_ex - c/N_cj +1)\n",
    "        \n",
    "        d = min(d1,d2,d3)\n",
    "        w_l[e,c] = base_cj_ex * np.exp(-d**2/(2*sigma**2))\n",
    "        \n",
    "        d1 = np.abs((e+1)/N_cj - c/N_ex)\n",
    "        d2 = np.abs((e+1)/N_cj - c/N_ex -1)\n",
    "        d3 = np.abs((e+1)/N_cj - c/N_ex +1)\n",
    "        \n",
    "        d = min(d1,d2,d3)\n",
    "        w_r[e,c] = base_cj_ex * np.exp(-d**2/(2*sigma**2))\n",
    "        \n",
    "m = np.amax(w_l)\n",
    "w_l[w_l<m] = 0\n",
    "m = np.amax(w_r)\n",
    "w_r[w_r<m] = 0"
   ]
  },
  {
   "cell_type": "code",
   "execution_count": 7,
   "id": "47e1e237",
   "metadata": {},
   "outputs": [],
   "source": [
    "exc_2_inh = nest.Connect(pop_ex, pop_in, conn_spec='all_to_all', syn_spec={'weight': w_ex, 'delay': delay})\n",
    "inh_2_exc = nest.Connect(pop_in, pop_ex, conn_spec='all_to_all', syn_spec={'weight': -w_in, 'delay': delay})\n",
    "\n",
    "exc_2_l = nest.Connect(pop_ex, turn_left, conn_spec='one_to_one', syn_spec={'weight': weight_ex_cj, 'delay': delay})\n",
    "exc_2_r = nest.Connect(pop_ex, turn_right, conn_spec='one_to_one', syn_spec={'weight': weight_ex_cj, 'delay': delay})\n",
    "\n",
    "l_2_exc = nest.Connect(turn_left, pop_ex, conn_spec='all_to_all', syn_spec={'weight': w_l, 'delay': delay})\n",
    "r_2_exc = nest.Connect(turn_right, pop_ex, conn_spec='all_to_all', syn_spec={'weight': w_r, 'delay': delay})"
   ]
  },
  {
   "cell_type": "code",
   "execution_count": 8,
   "id": "25a205dc",
   "metadata": {},
   "outputs": [],
   "source": [
    "noise_ex = nest.Create('poisson_generator', N_cj)\n",
    "noise_in = nest.Create('poisson_generator', N_cj)\n",
    "noise_ex.set(rate=80000.0)\n",
    "noise_in.set(rate=16000.0)"
   ]
  },
  {
   "cell_type": "code",
   "execution_count": 9,
   "id": "80b06678",
   "metadata": {},
   "outputs": [],
   "source": [
    "syn_dict_ex = {'weight': 1.2}\n",
    "syn_dict_in = {'weight': -2.0}\n",
    "nest.Connect(noise_ex, turn_left, conn_spec='one_to_one', syn_spec=syn_dict_ex)\n",
    "nest.Connect(noise_in, turn_left, conn_spec='one_to_one', syn_spec=syn_dict_in)\n",
    "nest.Connect(noise_ex, turn_right, conn_spec='one_to_one', syn_spec=syn_dict_ex)\n",
    "nest.Connect(noise_in, turn_right, conn_spec='one_to_one', syn_spec=syn_dict_in)\n",
    "\n",
    "spikerecorder = nest.Create('spike_recorder')\n",
    "nest.Connect(pop_ex, spikerecorder)"
   ]
  },
  {
   "cell_type": "code",
   "execution_count": 10,
   "id": "1bec9630",
   "metadata": {},
   "outputs": [],
   "source": [
    "bump_init = nest.Create('step_current_generator', 1, params={'amplitude_times':[0.1,0.1+I_init_dur],'amplitude_values':[I_init,0.0]})\n",
    "nest.Connect(bump_init, pop_ex[I_init_pos])"
   ]
  },
  {
   "cell_type": "code",
   "execution_count": 11,
   "id": "098cf12e",
   "metadata": {
    "scrolled": true
   },
   "outputs": [
    {
     "name": "stdout",
     "output_type": "stream",
     "text": [
      "\n",
      "Mar 16 15:13:50 NodeManager::prepare_nodes [Info]: \n",
      "    Preparing 1082 nodes for simulation.\n",
      "\n",
      "Mar 16 15:13:50 SimulationManager::start_updating_ [Info]: \n",
      "    Number of local nodes: 1082\n",
      "    Simulation time (ms): 10000\n",
      "    Number of OpenMP threads: 1\n",
      "    Not using MPI\n",
      "\n",
      "Mar 16 15:13:57 SimulationManager::run [Info]: \n",
      "    Simulation finished.\n"
     ]
    }
   ],
   "source": [
    "nest.Simulate(T)"
   ]
  },
  {
   "cell_type": "code",
   "execution_count": 12,
   "id": "f6fda127",
   "metadata": {},
   "outputs": [],
   "source": [
    "data = spikerecorder.get('events')\n",
    "t = data['times']\n",
    "spikes = data['senders']"
   ]
  },
  {
   "cell_type": "code",
   "execution_count": 13,
   "id": "367c454f",
   "metadata": {},
   "outputs": [],
   "source": [
    "fps = 10\n",
    "rescaled_T = T//fps\n",
    "time = np.arange(1,rescaled_T)\n",
    "\n",
    "direction = []\n",
    "for t_ in time:\n",
    "    direction.append(scipy.stats.circmean(spikes[(t/fps < t_) & (t/fps > t_-1)], high=N, low=0))"
   ]
  },
  {
   "cell_type": "code",
   "execution_count": 14,
   "id": "333afb8c",
   "metadata": {},
   "outputs": [
    {
     "data": {
      "image/png": "[encoded data removed]",
      "text/plain": [
       "<Figure size 640x480 with 1 Axes>"
      ]
     },
     "metadata": {},
     "output_type": "display_data"
    }
   ],
   "source": [
    "plt.scatter(t/1000., spikes, c='black', s=1)\n",
    "plt.scatter(time/rescaled_T*T*ms, direction, c='red', s=5)\n",
    "plt.ylim(0,N)\n",
    "plt.show()"
   ]
  },
  {
   "cell_type": "code",
   "execution_count": 15,
   "id": "8fa35832",
   "metadata": {},
   "outputs": [],
   "source": [
    "df = pd.DataFrame(np.array([time, direction]).T, columns=['time', 'theta'])\n",
    "df['theta'] = df['theta'] / N * 360.\n",
    "\n",
    "df['dir_x'] = np.cos(df['theta']*np.pi/180.)\n",
    "df['dir_y'] = np.sin(df['theta']*np.pi/180.)\n",
    "df['pos_x'] = df['dir_x'].cumsum()\n",
    "df['pos_y'] = df['dir_y'].cumsum()"
   ]
  },
  {
   "cell_type": "code",
   "execution_count": 16,
   "id": "f72d75a6",
   "metadata": {},
   "outputs": [
    {
     "data": {
      "image/png": "[encoded data removed]",
      "text/plain": [
       "<Figure size 640x480 with 1 Axes>"
      ]
     },
     "metadata": {},
     "output_type": "display_data"
    }
   ],
   "source": [
    "plt.scatter(df['pos_x'], df['pos_y'], c=df['time'], s=5)\n",
    "ax = plt.gca()\n",
    "ax.set_aspect('equal')\n",
    "plt.show()"
   ]
  },
  {
   "cell_type": "code",
   "execution_count": null,
   "id": "804c2d3b",
   "metadata": {},
   "outputs": [],
   "source": []
  }
 ],
 "metadata": {
  "kernelspec": {
   "display_name": "Python 3 (ipykernel)",
   "language": "python",
   "name": "python3"
  },
  "language_info": {
   "codemirror_mode": {
    "name": "ipython",
    "version": 3
   },
   "file_extension": ".py",
   "mimetype": "text/x-python",
   "name": "python",
   "nbconvert_exporter": "python",
   "pygments_lexer": "ipython3",
   "version": "3.11.0"
  }
 },
 "nbformat": 4,
 "nbformat_minor": 5
}
