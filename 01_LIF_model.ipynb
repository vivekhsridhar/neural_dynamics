{
 "cells": [
  {
   "cell_type": "code",
   "execution_count": 1,
   "id": "e98b0392",
   "metadata": {},
   "outputs": [],
   "source": [
    "import numpy as np\n",
    "import matplotlib.pyplot as plt"
   ]
  },
  {
   "cell_type": "markdown",
   "id": "c0fcf770",
   "metadata": {},
   "source": [
    "### Integrate-and-fire model\n",
    "The integrate-and-fire model is one of the simplest model of neural firing. I will now lay down a few facts upon which this model is based.\n",
    "\n",
    "Fact 1: Neurons are surrounded by an impermeable membrane.\n",
    "Fact 2: The inside of a neuron is more negative than the outside.\n",
    "\n",
    "Based on these two facts alone, one simplifies the neuron as a simple capcitance circuit. Equal positive and negative charge is present on either side of the impermeable membrane. THis is represented by the following equations\n",
    "\n",
    "$Q_c = (V_{in} - V_{out}) C$\n",
    "\n",
    "By convention, we always consider $V_{out} = 0$. We then simplify the notation by $V_{in} = V$ to get\n",
    "\n",
    "$Q_c = V C$\n",
    "\n",
    "$\\frac{dQ_c}{dt} = C \\frac{dV}{dt}$\n",
    "\n",
    "$\\frac{dV}{dt} = \\frac{I}{C}$"
   ]
  },
  {
   "cell_type": "code",
   "execution_count": 2,
   "id": "e002ad21",
   "metadata": {},
   "outputs": [],
   "source": [
    "class IFNeuron:\n",
    "    def __init__(self, C, V0, Vth, Vr):\n",
    "        # Set the parameters of the LIF neuron\n",
    "        self.C = C                   # Capacitance of the neuron\n",
    "        self.Vth = Vth               # Membrane potential threshold value\n",
    "        self.Vr = Vr                 # Membrane potential reset value\n",
    "        self.V = V0                  # Initial membrane potential\n",
    "        self.t_last_spike = -np.inf  # Last spike time (initialised to a large negative value)\n",
    "        self.n_spikes = 0            # Number of spikes (initialised to 0)\n",
    "    \n",
    "    def update(self, dt, I):\n",
    "        # Update the membrane potential using the IF equation\n",
    "        dV = I * dt / self.C  # Compute the change in membrane potential\n",
    "        self.V += dV          # Update the membrane potential\n",
    "        \n",
    "        # Check if the neuron has spiked\n",
    "        if self.V >= self.Vth:\n",
    "            self.V = self.Vr       # Reset the membrane potential\n",
    "            self.t_last_spike = 0  # Set the last spike time to 0\n",
    "            self.n_spikes += 1     # Increment the number of spikes\n",
    "        else:\n",
    "            self.t_last_spike += dt  # Increment the last spike time"
   ]
  },
  {
   "cell_type": "code",
   "execution_count": 3,
   "id": "ff8f5304",
   "metadata": {},
   "outputs": [],
   "source": [
    "# Create an instance of the IFNeuron class\n",
    "neuron = IFNeuron(C=1, V0=0, Vth=2, Vr=-1)\n",
    "\n",
    "# Set the time step and the time range\n",
    "dt = 0.1\n",
    "t = np.arange(0, 100, dt)\n",
    "\n",
    "# Initialize an empty list to store the membrane potentials\n",
    "V = []\n",
    "\n",
    "# Iterate over the time range\n",
    "for i in range(len(t)):\n",
    "    I = 0.1               # Constant current input\n",
    "    neuron.update(dt, I)  # Update state of the neuron\n",
    "    V.append(neuron.V)    # Append the membrane potential to the list"
   ]
  },
  {
   "cell_type": "code",
   "execution_count": 4,
   "id": "2cbe2c0f",
   "metadata": {},
   "outputs": [
    {
     "data": {
      "image/png": "[encoded data removed]",
      "text/plain": [
       "<Figure size 720x165.6 with 1 Axes>"
      ]
     },
     "metadata": {
      "needs_background": "light"
     },
     "output_type": "display_data"
    }
   ],
   "source": [
    "# Plot memebrane potential over time \n",
    "fig,ax = plt.subplots(1,1, figsize=(10,2.3))\n",
    "ax.plot(t,V)\n",
    "plt.show()"
   ]
  },
  {
   "cell_type": "markdown",
   "id": "eb1e9de9",
   "metadata": {},
   "source": [
    "### Leaky integrate-and-fire model\n",
    "The leaky integrate-and-fire model goes one step further. It assumes that there is some charge that leaks through the membrate; that it is not completely impermeable. In the circuit sense, this is modelled as a resistor. Together, the leaky integrate-and-fire model is modelled as an RC circuit with a battery of potential $V_{rest}$.\n",
    "\n",
    "$\\frac{dV}{dt} = \\frac{-(V_{in} - V^*)}{\\tau}$\n",
    "\n",
    "where $V^*$ is the target membrane potential and $\\tau$ is the time constant.\n",
    "\n",
    "$V^* = V_{rest} + IR$\n",
    "\n",
    "$\\tau = RC$"
   ]
  },
  {
   "cell_type": "code",
   "execution_count": 5,
   "id": "b5ec24a2",
   "metadata": {},
   "outputs": [],
   "source": [
    "class LIFNeuron:\n",
    "    def __init__(self, C, R, V0, Vth, Vr, Vrest):\n",
    "        # Set the parameters of the LIF neuron\n",
    "        self.C = C                   # Capacitance of the neuron\n",
    "        self.R = R                   # Resistance of the neuron\n",
    "        self.Vth = Vth               # Membrane potential threshold value\n",
    "        self.Vr = Vr                 # Membrane potential reset value\n",
    "        self.Vrest = Vrest           # Resting membrane potential\n",
    "        self.V = V0                  # Initial membrane potential\n",
    "        self.t_last_spike = -np.inf  # Last spike time (initialised to a large negative value)\n",
    "        self.n_spikes = 0            # Number of spikes (initialised to 0)\n",
    "    \n",
    "    def update(self, dt, I):\n",
    "        # Update the membrane potential using the LIF equation\n",
    "        Vtarget = self.Vrest + I*self.R  # Target membrane potential\n",
    "        tau = self.R * self.C            # Time constant\n",
    "        dV = -(self.V - Vtarget)*dt/tau  # Compute the change in membrane potential\n",
    "        self.V += dV                     # Update the membrane potential\n",
    "        \n",
    "        # Check if the neuron has spiked\n",
    "        if self.V >= self.Vth:\n",
    "            self.V = self.Vr       # Reset the membrane potential\n",
    "            self.t_last_spike = 0  # Set the last spike time to 0\n",
    "            self.n_spikes += 1     # Increment the number of spikes\n",
    "        else:\n",
    "            self.t_last_spike += dt  # Increment the last spike time"
   ]
  },
  {
   "cell_type": "code",
   "execution_count": 32,
   "id": "1fd446e4",
   "metadata": {},
   "outputs": [],
   "source": [
    "# Create an instance of the LIFNeuron class\n",
    "lif_neuron = LIFNeuron(C=1, R=10, V0=-75, Vth=20, Vr=-90, Vrest=-70)\n",
    "\n",
    "# Set the time step and the time range\n",
    "dt = 0.1\n",
    "t = np.arange(0, 100, dt)\n",
    "\n",
    "# Initialize an empty list to store the membrane potentials\n",
    "V = []\n",
    "d = np.zeros(t.shape)\n",
    "\n",
    "# Iterate over the time range\n",
    "for i in range(len(t)):\n",
    "    I = 10                    # Constant current input\n",
    "    lif_neuron.update(dt, I)  # Update state of the neuron\n",
    "    V.append(lif_neuron.V)    # Append the membrane potential to the list"
   ]
  },
  {
   "cell_type": "code",
   "execution_count": 33,
   "id": "78b2570f",
   "metadata": {},
   "outputs": [
    {
     "data": {
      "image/png": "[encoded data removed]",
      "text/plain": [
       "<Figure size 720x165.6 with 1 Axes>"
      ]
     },
     "metadata": {
      "needs_background": "light"
     },
     "output_type": "display_data"
    }
   ],
   "source": [
    "# Plot memebrane potential over time \n",
    "fig,ax = plt.subplots(1,1, figsize=(10,2.3))\n",
    "ax.plot(t,V)\n",
    "plt.show()"
   ]
  },
  {
   "cell_type": "markdown",
   "id": "27e16721",
   "metadata": {},
   "source": [
    "Note that neither the IF model, nor the LIF model exhibit neural spiking dynamics naturally. We force this with a hack by using threshold $V_{th}$ and reset $V_{reset}$ values for the membrane potential. But these models are still popular as they are computationally simple, and can be used to network several such neurons to explore network dynamics.\n"
   ]
  },
  {
   "cell_type": "code",
   "execution_count": null,
   "id": "8c40c032",
   "metadata": {},
   "outputs": [],
   "source": []
  }
 ],
 "metadata": {
  "kernelspec": {
   "display_name": "Python 3 (ipykernel)",
   "language": "python",
   "name": "python3"
  },
  "language_info": {
   "codemirror_mode": {
    "name": "ipython",
    "version": 3
   },
   "file_extension": ".py",
   "mimetype": "text/x-python",
   "name": "python",
   "nbconvert_exporter": "python",
   "pygments_lexer": "ipython3",
   "version": "3.8.9"
  }
 },
 "nbformat": 4,
 "nbformat_minor": 5
}
