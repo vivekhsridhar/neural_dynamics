{
 "cells": [
  {
   "cell_type": "code",
   "execution_count": 1,
   "id": "e0507525",
   "metadata": {},
   "outputs": [
    {
     "name": "stdout",
     "output_type": "stream",
     "text": [
      "\n",
      "              -- N E S T --\n",
      "  Copyright (C) 2004 The NEST Initiative\n",
      "\n",
      " Version: 3.3\n",
      " Built: Nov  6 2022 20:23:54\n",
      "\n",
      " This program is provided AS IS and comes with\n",
      " NO WARRANTY. See the file LICENSE for details.\n",
      "\n",
      " Problems or suggestions?\n",
      "   Visit https://www.nest-simulator.org\n",
      "\n",
      " Type 'nest.help()' to find out more about NEST.\n",
      "\n"
     ]
    }
   ],
   "source": [
    "import matplotlib.pyplot as plt\n",
    "\n",
    "import nest"
   ]
  },
  {
   "cell_type": "markdown",
   "id": "df65935f",
   "metadata": {},
   "source": [
    "### Create and record from a single neuron\n",
    "A neural network in NEST consists of two basic element types: nodes and connections. Nodes are either neurons, devices or sub-networks. Devices are used to stimulate neurons or to record from them. New nodes are created with the command **Create()**, which takes as arguments the model name of the desired node type, and optionally the number of nodes to be created and the initialising parameters. The function returns a NodeCollection of handles to the new nodes, which you can assign to a variable for later use. A NodeCollection is a compact representation of the node handles, which are integer numbers, called ids. Many PyNEST functions expect or return a NodeCollection (see command overview). Thus, it is easy to apply functions to large sets of nodes with a single function call.\n",
    "\n",
    "Here, we create a simple integrate-and-fire neuron with alpha-shaped postsynaptic currents."
   ]
  },
  {
   "cell_type": "code",
   "execution_count": 2,
   "id": "e65a1b3e",
   "metadata": {},
   "outputs": [
    {
     "data": {
      "text/plain": [
       "{'archiver_length': 0,\n",
       " 'beta_Ca': 0.001,\n",
       " 'C_m': 250.0,\n",
       " 'Ca': 0.0,\n",
       " 'E_L': -70.0,\n",
       " 'element_type': 'neuron',\n",
       " 'frozen': False,\n",
       " 'global_id': 1,\n",
       " 'I_e': 0.0,\n",
       " 'local': True,\n",
       " 'model': 'iaf_psc_alpha',\n",
       " 'model_id': 17,\n",
       " 'node_uses_wfr': False,\n",
       " 'post_trace': 0.0,\n",
       " 'recordables': ('I_syn_ex', 'I_syn_in', 'V_m'),\n",
       " 'synaptic_elements': {},\n",
       " 't_ref': 2.0,\n",
       " 't_spike': -1.0,\n",
       " 'tau_Ca': 10000.0,\n",
       " 'tau_m': 10.0,\n",
       " 'tau_minus': 20.0,\n",
       " 'tau_minus_triplet': 110.0,\n",
       " 'tau_syn_ex': 2.0,\n",
       " 'tau_syn_in': 2.0,\n",
       " 'thread': 0,\n",
       " 'thread_local_id': -1,\n",
       " 'V_m': -70.0,\n",
       " 'V_min': -inf,\n",
       " 'V_reset': -70.0,\n",
       " 'V_th': -55.0,\n",
       " 'vp': 0}"
      ]
     },
     "execution_count": 2,
     "metadata": {},
     "output_type": "execute_result"
    }
   ],
   "source": [
    "# Create a neuron\n",
    "neuron = nest.Create('iaf_psc_alpha')\n",
    "neuron.get()"
   ]
  },
  {
   "cell_type": "code",
   "execution_count": 3,
   "id": "38408836",
   "metadata": {},
   "outputs": [],
   "source": [
    "# Input external current to the neuron\n",
    "neuron.set(I_e=376.)"
   ]
  },
  {
   "cell_type": "code",
   "execution_count": 4,
   "id": "c8f55382",
   "metadata": {},
   "outputs": [],
   "source": [
    "# Create devices (a multimeter and a spike recorder)\n",
    "multimeter = nest.Create('multimeter')\n",
    "multimeter.set(record_from=['V_m'])\n",
    "\n",
    "spikerecorder = nest.Create('spike_recorder')"
   ]
  },
  {
   "cell_type": "code",
   "execution_count": 5,
   "id": "af456ee7",
   "metadata": {},
   "outputs": [
    {
     "name": "stdout",
     "output_type": "stream",
     "text": [
      "\n",
      "Jan 26 14:25:22 NodeManager::prepare_nodes [Info]: \n",
      "    Preparing 3 nodes for simulation.\n",
      "\n",
      "Jan 26 14:25:22 SimulationManager::start_updating_ [Info]: \n",
      "    Number of local nodes: 3\n",
      "    Simulation time (ms): 1000\n",
      "    Number of OpenMP threads: 1\n",
      "    Not using MPI\n",
      "\n",
      "Jan 26 14:25:22 SimulationManager::run [Info]: \n",
      "    Simulation finished.\n"
     ]
    }
   ],
   "source": [
    "# Connect the multimeter to the neuron and the neuron to the spike recorder\n",
    "# (note that the order here matters)\n",
    "nest.Connect(multimeter, neuron)\n",
    "nest.Connect(neuron, spikerecorder)\n",
    "\n",
    "# Run simulation for 1000 ms\n",
    "nest.Simulate(1000.)"
   ]
  },
  {
   "cell_type": "code",
   "execution_count": 6,
   "id": "79a5c8ea",
   "metadata": {},
   "outputs": [],
   "source": [
    "# Get membrane potential of the neuron over time from the multimeter\n",
    "data = multimeter.get('events')\n",
    "Vm = data['V_m']\n",
    "t = data['times']\n",
    "\n",
    "# Get spike recordings of the neuron over time from the spike recorder\n",
    "spike_data = spikerecorder.get('events')\n",
    "spikes = spike_data['senders']\n",
    "times = spike_data['times']"
   ]
  },
  {
   "cell_type": "code",
   "execution_count": 7,
   "id": "dfe5cfd9",
   "metadata": {},
   "outputs": [
    {
     "data": {
      "image/png": "[encoded data removed]",
      "text/plain": [
       "<Figure size 400x400 with 2 Axes>"
      ]
     },
     "metadata": {},
     "output_type": "display_data"
    }
   ],
   "source": [
    "# Plot output of the multimeter and the spike recorder\n",
    "fig,(ax1,ax2) = plt.subplots(2,1, figsize=(4,4), sharex=True)\n",
    "\n",
    "ax1.plot(t, Vm, c='black')\n",
    "ax2.plot(times, spikes, '.', c='black')\n",
    "plt.show()"
   ]
  },
  {
   "cell_type": "code",
   "execution_count": 9,
   "id": "9465434b",
   "metadata": {},
   "outputs": [
    {
     "data": {
      "text/plain": [
       "{'element_type': 'recorder',\n",
       " 'events': {'senders': array([1, 1, 1, 1, 1, 1, 1, 1, 1, 1, 1, 1, 1, 1, 1, 1]),\n",
       "  'times': array([ 59.3, 120.6, 181.9, 243.2, 304.5, 365.8, 427.1, 488.4, 549.7,\n",
       "         611. , 672.3, 733.6, 794.9, 856.2, 917.5, 978.8])},\n",
       " 'frozen': False,\n",
       " 'global_id': 3,\n",
       " 'label': '',\n",
       " 'local': True,\n",
       " 'model': 'spike_recorder',\n",
       " 'model_id': 56,\n",
       " 'n_events': 16,\n",
       " 'node_uses_wfr': False,\n",
       " 'origin': 0.0,\n",
       " 'record_to': 'memory',\n",
       " 'start': 0.0,\n",
       " 'stop': 1.7976931348623157e+308,\n",
       " 'thread': 0,\n",
       " 'thread_local_id': 2,\n",
       " 'time_in_steps': False,\n",
       " 'vp': 0}"
      ]
     },
     "execution_count": 9,
     "metadata": {},
     "output_type": "execute_result"
    }
   ],
   "source": [
    "spikerecorder.get()"
   ]
  },
  {
   "cell_type": "markdown",
   "id": "930d340d",
   "metadata": {},
   "source": [
    "A commonly used model of neural activity is the Poisson process. We now adapt the previous example so that one of the neurons receives 2 Poisson spike trains, one excitatory and the other inhibitory. A Poisson spike train is a type of stochastic process that describes the firing of a neuron, where the number of action potentials (or spikes) emitted by the neuron in a given time interval follows a Poisson distribution. In other words, it describes the random timing of spikes with a fixed average rate. For this, we need a new device, the poisson_generator. After creating the neurons, we create these two generators and set their rates to 80000Hz and 15000Hz, respectively."
   ]
  },
  {
   "cell_type": "code",
   "execution_count": 8,
   "id": "36ae9dd7",
   "metadata": {},
   "outputs": [],
   "source": [
    "# Create a neuron with no input current\n",
    "neuron = nest.Create('iaf_psc_alpha')"
   ]
  },
  {
   "cell_type": "code",
   "execution_count": 9,
   "id": "4e8cc320",
   "metadata": {},
   "outputs": [],
   "source": [
    "# Create excitatory and inhibitory poisson spike generators\n",
    "# Note that here, the excitatory generator is set at a much higher spike rate than the inhibitory generator\n",
    "noise_ex = nest.Create('poisson_generator')\n",
    "noise_in = nest.Create('poisson_generator')\n",
    "noise_ex.set(rate=80000.0)\n",
    "noise_in.set(rate=15000.0)"
   ]
  },
  {
   "cell_type": "markdown",
   "id": "2316788d",
   "metadata": {},
   "source": [
    "Each event of the excitatory generator should produce a postsynaptic current of 1.2pA amplitude, an inhibitory event of -2.0pA. The synaptic weights can be defined in a dictionary, which is passed to the **Connect()** function using the keyword syn_spec (synapse specifications). In general all parameters determining the synapse can be specified in the synapse dictionary, such as \"weight\", \"delay\", the synaptic model (\"synapse_model\") and parameters specific to the synaptic model."
   ]
  },
  {
   "cell_type": "code",
   "execution_count": 10,
   "id": "a640de3e",
   "metadata": {},
   "outputs": [],
   "source": [
    "syn_dict_ex = {'weight': 1.2}\n",
    "syn_dict_in = {'weight': -2.0}\n",
    "nest.Connect(noise_ex, neuron, syn_spec=syn_dict_ex)\n",
    "nest.Connect(noise_in, neuron, syn_spec=syn_dict_in)"
   ]
  },
  {
   "cell_type": "code",
   "execution_count": 11,
   "id": "dfb441fd",
   "metadata": {},
   "outputs": [],
   "source": [
    "# Create devices (a multimeter and a spike recorder)\n",
    "multimeter = nest.Create('multimeter')\n",
    "multimeter.set(record_from=['V_m'])\n",
    "\n",
    "spikerecorder = nest.Create('spike_recorder')"
   ]
  },
  {
   "cell_type": "code",
   "execution_count": 12,
   "id": "aed46269",
   "metadata": {},
   "outputs": [
    {
     "name": "stdout",
     "output_type": "stream",
     "text": [
      "\n",
      "Jan 25 17:43:58 NodeManager::prepare_nodes [Info]: \n",
      "    Preparing 8 nodes for simulation.\n",
      "\n",
      "Jan 25 17:43:58 SimulationManager::start_updating_ [Info]: \n",
      "    Number of local nodes: 8\n",
      "    Simulation time (ms): 1000\n",
      "    Number of OpenMP threads: 1\n",
      "    Not using MPI\n",
      "\n",
      "Jan 25 17:43:58 SimulationManager::run [Info]: \n",
      "    Simulation finished.\n"
     ]
    }
   ],
   "source": [
    "# Connect the multimeter to the neuron and the neuron to the spike recorder\n",
    "# (note that the order here matters)\n",
    "nest.Connect(multimeter, neuron)\n",
    "nest.Connect(neuron, spikerecorder)\n",
    "\n",
    "# Run simulation for 1000 ms\n",
    "nest.Simulate(1000.)"
   ]
  },
  {
   "cell_type": "code",
   "execution_count": 13,
   "id": "8dfdf2bf",
   "metadata": {},
   "outputs": [],
   "source": [
    "# Get membrane potential of the neuron over time from the multimeter\n",
    "data = multimeter.get('events')\n",
    "Vm = data['V_m']\n",
    "t = data['times']\n",
    "\n",
    "# Get spike recordings of the neuron over time from the spike recorder\n",
    "spike_data = spikerecorder.get('events')\n",
    "spikes = spike_data['senders']\n",
    "times = spike_data['times']"
   ]
  },
  {
   "cell_type": "code",
   "execution_count": 14,
   "id": "22faac16",
   "metadata": {},
   "outputs": [
    {
     "data": {
      "image/png": "[encoded data removed]",
      "text/plain": [
       "<Figure size 400x400 with 2 Axes>"
      ]
     },
     "metadata": {},
     "output_type": "display_data"
    }
   ],
   "source": [
    "# Plot output of the multimeter and the spike recorder\n",
    "fig,(ax1,ax2) = plt.subplots(2,1, figsize=(4,4), sharex=True)\n",
    "\n",
    "ax1.plot(t, Vm, c='black')\n",
    "ax2.plot(times, spikes, '.', c='black')\n",
    "plt.show()"
   ]
  },
  {
   "cell_type": "code",
   "execution_count": null,
   "id": "c712fb87",
   "metadata": {},
   "outputs": [],
   "source": []
  }
 ],
 "metadata": {
  "kernelspec": {
   "display_name": "Python 3 (ipykernel)",
   "language": "python",
   "name": "python3"
  },
  "language_info": {
   "codemirror_mode": {
    "name": "ipython",
    "version": 3
   },
   "file_extension": ".py",
   "mimetype": "text/x-python",
   "name": "python",
   "nbconvert_exporter": "python",
   "pygments_lexer": "ipython3",
   "version": "3.11.0"
  }
 },
 "nbformat": 4,
 "nbformat_minor": 5
}
