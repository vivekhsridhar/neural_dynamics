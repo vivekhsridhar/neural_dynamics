{
 "cells": [
  {
   "cell_type": "code",
   "execution_count": 1,
   "id": "35fa19d6",
   "metadata": {},
   "outputs": [
    {
     "name": "stdout",
     "output_type": "stream",
     "text": [
      "\n",
      "              -- N E S T --\n",
      "  Copyright (C) 2004 The NEST Initiative\n",
      "\n",
      " Version: 3.3\n",
      " Built: Nov  6 2022 20:23:54\n",
      "\n",
      " This program is provided AS IS and comes with\n",
      " NO WARRANTY. See the file LICENSE for details.\n",
      "\n",
      " Problems or suggestions?\n",
      "   Visit https://www.nest-simulator.org\n",
      "\n",
      " Type 'nest.help()' to find out more about NEST.\n",
      "\n"
     ]
    }
   ],
   "source": [
    "import matplotlib.pyplot as plt\n",
    "\n",
    "import nest"
   ]
  },
  {
   "cell_type": "code",
   "execution_count": 2,
   "id": "9c4fba9d",
   "metadata": {},
   "outputs": [],
   "source": [
    "# Create two neurons with different input currents\n",
    "neuron1 = nest.Create('iaf_psc_alpha')\n",
    "neuron2 = nest.Create('iaf_psc_alpha')"
   ]
  },
  {
   "cell_type": "code",
   "execution_count": 3,
   "id": "da9e2a8d",
   "metadata": {},
   "outputs": [],
   "source": [
    "# Create excitatory and inhibitory poisson spike generators\n",
    "noise_ex = nest.Create('poisson_generator')\n",
    "noise_in = nest.Create('poisson_generator')\n",
    "noise_ex.set(rate=80000.0)\n",
    "noise_in.set(rate=15000.0)"
   ]
  },
  {
   "cell_type": "code",
   "execution_count": 4,
   "id": "bda45b22",
   "metadata": {},
   "outputs": [],
   "source": [
    "# Create a multimeter to record membrane potential of both neurons\n",
    "multimeter = nest.Create('multimeter')\n",
    "multimeter.set({'record_from':['V_m']})"
   ]
  },
  {
   "cell_type": "code",
   "execution_count": 5,
   "id": "4c9089e3",
   "metadata": {},
   "outputs": [],
   "source": [
    "# Connect poisson spike trains to neuron1\n",
    "syn_dict_ex = {'weight': 1.2}\n",
    "syn_dict_in = {'weight': -2.0}\n",
    "nest.Connect(noise_ex, neuron1, syn_spec=syn_dict_ex)\n",
    "nest.Connect(noise_in, neuron1, syn_spec=syn_dict_in)"
   ]
  },
  {
   "cell_type": "code",
   "execution_count": 6,
   "id": "5829d934",
   "metadata": {},
   "outputs": [
    {
     "name": "stdout",
     "output_type": "stream",
     "text": [
      "\n",
      "Jan 25 17:47:18 NodeManager::prepare_nodes [Info]: \n",
      "    Preparing 5 nodes for simulation.\n",
      "\n",
      "Jan 25 17:47:18 SimulationManager::start_updating_ [Info]: \n",
      "    Number of local nodes: 5\n",
      "    Simulation time (ms): 1000\n",
      "    Number of OpenMP threads: 1\n",
      "    Not using MPI\n",
      "\n",
      "Jan 25 17:47:18 SimulationManager::run [Info]: \n",
      "    Simulation finished.\n"
     ]
    }
   ],
   "source": [
    "# Connect neuron1 to neuron2 and the multimeter to both neurons\n",
    "nest.Connect(neuron1, neuron2, syn_spec={'weight':20.0, 'delay':1.0})\n",
    "nest.Connect(multimeter, neuron1)\n",
    "nest.Connect(multimeter, neuron2)\n",
    "\n",
    "# Simulate for 1000 ms\n",
    "nest.Simulate(1000.0)"
   ]
  },
  {
   "cell_type": "code",
   "execution_count": 7,
   "id": "ba5489d4",
   "metadata": {},
   "outputs": [],
   "source": [
    "# Reat output data from the multimeter and separate membrane potentials from the timesteps\n",
    "data = multimeter.get('events')\n",
    "\n",
    "Vm = data['V_m']\n",
    "t = data['times']"
   ]
  },
  {
   "cell_type": "code",
   "execution_count": 8,
   "id": "cb8b4de7",
   "metadata": {},
   "outputs": [
    {
     "data": {
      "image/png": "[encoded data removed]",
      "text/plain": [
       "<Figure size 400x200 with 1 Axes>"
      ]
     },
     "metadata": {},
     "output_type": "display_data"
    }
   ],
   "source": [
    "# Plot membrane potentials of both neurons\n",
    "fig,ax = plt.subplots(1,1, figsize=(4,2))\n",
    "ax.plot(t[::2], Vm[::2], c='black')\n",
    "ax.plot(t[1::2], Vm[1::2], c='red')\n",
    "plt.show()"
   ]
  },
  {
   "cell_type": "code",
   "execution_count": null,
   "id": "a67436c7",
   "metadata": {},
   "outputs": [],
   "source": []
  }
 ],
 "metadata": {
  "kernelspec": {
   "display_name": "Python 3 (ipykernel)",
   "language": "python",
   "name": "python3"
  },
  "language_info": {
   "codemirror_mode": {
    "name": "ipython",
    "version": 3
   },
   "file_extension": ".py",
   "mimetype": "text/x-python",
   "name": "python",
   "nbconvert_exporter": "python",
   "pygments_lexer": "ipython3",
   "version": "3.11.0"
  }
 },
 "nbformat": 4,
 "nbformat_minor": 5
}
