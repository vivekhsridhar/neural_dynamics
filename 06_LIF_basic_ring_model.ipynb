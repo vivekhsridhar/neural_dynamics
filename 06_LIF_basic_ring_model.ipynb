{
 "cells": [
  {
   "cell_type": "code",
   "execution_count": 1,
   "id": "e98b0392",
   "metadata": {},
   "outputs": [],
   "source": [
    "import numpy as np\n",
    "import pandas as pd\n",
    "import matplotlib.pyplot as plt"
   ]
  },
  {
   "cell_type": "code",
   "execution_count": 2,
   "id": "e0507525",
   "metadata": {},
   "outputs": [],
   "source": [
    "# Give values to measured units\n",
    "mV = 1e-3\n",
    "nF = 1e-9\n",
    "ms = 1e-3\n",
    "nA = 1e-9\n",
    "\n",
    "MOhm = 1e6"
   ]
  },
  {
   "cell_type": "markdown",
   "id": "8ea0917e",
   "metadata": {},
   "source": [
    "### Basic ring model 1\n",
    "This is an LIF model synapsed like in a ring-attractor. The neurons are networked using a connectivity matrix that enforces symmetric weights, but of any magnitude. This allows a broad range of interactions between the neurons so long as they are required to be symmetric.\n",
    "\n",
    "Note: By symmetric, we mean that neurons to the left and right of the focal neuron will have the same weights."
   ]
  },
  {
   "cell_type": "code",
   "execution_count": 3,
   "id": "1d09fa28",
   "metadata": {},
   "outputs": [],
   "source": [
    "class LIFNeuron:\n",
    "    def __init__(self, ID, C=1*nF, Ip=0*nA, V0=-60*mV, Vth=-48*mV, Vr=-80*mV, Vleak=-70*mV, tau_m=20*ms):\n",
    "        '''Set the parameters of the LIF neuron'''\n",
    "        self.id = ID                   # Neuron ID\n",
    "        self.C = C\n",
    "        self.Ip = Ip                   # Poisson input current\n",
    "        self.I = 0.0                   # Total input current (poisson + synapses)\n",
    "        self.Vth = Vth                 # Membrane potential threshold value\n",
    "        self.Vr = Vr                   # Membrane potential reset value\n",
    "        self.Vleak = Vleak             # Resting membrane potential / leaky reversal potential\n",
    "        \n",
    "        self.tau_m = tau_m             # Membrane time constant\n",
    "        self.tau_ref = 2*ms\n",
    "        self.tau_s_in = 5*ms\n",
    "        self.tau_s_ex = 5*ms\n",
    "        \n",
    "        self.V = V0                    # Initial membrane potential\n",
    "        self.synapses = {}             # {neuron ID : weight}\n",
    "\n",
    "    def update(self):\n",
    "        '''Updates the LIF neuron's state for a single time step'''\n",
    "        self._hyperpolarize()\n",
    "        self._updateCurrent()\n",
    "        self._updatePotential()\n",
    "        self._depolarize()\n",
    "\n",
    "    def _updatePotential(self):\n",
    "        '''Update LIF neuron's membrane potential'''\n",
    "        V_L = self.V - self.Vleak\n",
    "        Vtarget = -V_L + self.I*self.tau_m\n",
    "        dV = (Vtarget/self.tau_m)*ms\n",
    "        self.V += dV\n",
    "\n",
    "    def _updateCurrent(self):\n",
    "        '''Update current input to the LIF neuron'''\n",
    "        self.I = 0.0\n",
    "        self.I += self.Ip\n",
    "\n",
    "        for neuron, weight in self.synapses.items():\n",
    "            if neuron.V == 0.0:\n",
    "                self.I += weight\n",
    "                \n",
    "    def _hyperpolarize(self):\n",
    "        '''Set membrane potential to the reset value if an action potential has just been fired'''\n",
    "        if self.V == 0.0:\n",
    "            self.V = self.Vr\n",
    "\n",
    "    def _depolarize(self):\n",
    "        '''Set membrane potential to 0 if an action potential has been fired'''\n",
    "        if self.V >= self.Vth:\n",
    "            self.V = 0.0"
   ]
  },
  {
   "cell_type": "code",
   "execution_count": 4,
   "id": "7f81e38a",
   "metadata": {},
   "outputs": [],
   "source": [
    "def kth_diag_indices(a, k):\n",
    "    '''Return indices of the elements on the k-th diagonal of array a'''\n",
    "    rows, cols = np.diag_indices_from(a)\n",
    "    if k < 0:\n",
    "        return rows[-k:], cols[:k]\n",
    "    elif k > 0:\n",
    "        return rows[:-k], cols[k:]\n",
    "    else:\n",
    "        return rows, cols\n",
    "\n",
    "def make_connectivity_matrix(weights, n):\n",
    "    '''Make a connectivity matrix for all pairs in a network of n neurons'''\n",
    "    connectivity_matrix = np.zeros((n,n))\n",
    "\n",
    "    for i, w in enumerate(weights):\n",
    "        connectivity_matrix[kth_diag_indices(connectivity_matrix, i)] = w\n",
    "        connectivity_matrix[kth_diag_indices(connectivity_matrix, -i)] = w\n",
    "\n",
    "    connectivity_matrix[connectivity_matrix < -1.0] = 0.0\n",
    "    return connectivity_matrix\n",
    "\n",
    "def connect_neurons(connectivity_matrix, neurons, n):\n",
    "    '''Connect neurons of LIFNeuron class based on connectivity matrix cv'''\n",
    "    for row in range(n):\n",
    "        for col in range(row,n):\n",
    "\n",
    "            # We don't want neurons connected to themselves\n",
    "            if row == col:\n",
    "                continue\n",
    "            \n",
    "            neurons[row].synapses[neurons[col]] = connectivity_matrix[row, col]\n",
    "            neurons[col].synapses[neurons[row]] = connectivity_matrix[col, row]"
   ]
  },
  {
   "cell_type": "code",
   "execution_count": 5,
   "id": "66118306",
   "metadata": {},
   "outputs": [],
   "source": [
    "# Number of neurons in the network\n",
    "n = 16\n",
    "\n",
    "# Create an instance of the LIFNeuron class\n",
    "lif_neurons = [LIFNeuron(ID) for ID in range(n)]\n",
    "\n",
    "# Set the time step and the time range\n",
    "t = np.arange(0, 1, ms)\n",
    "\n",
    "# Connect neurons with ring-attractor type weights\n",
    "weights = np.linspace(1, -1.2, n)\n",
    "connectivity_matrix = make_connectivity_matrix(weights, n)\n",
    "connect_neurons(connectivity_matrix, lif_neurons, n)\n",
    "\n",
    "# Input current received by specific neurons\n",
    "poissonInput = np.random.poisson(lam=1.0, size=len(t))\n",
    "poissonWeight = 1.0\n",
    "poissonConnections = [4,5,6,7,8]\n",
    "\n",
    "potentials = [[] for _ in range(n)]\n",
    "\n",
    "# Iterate over the time range\n",
    "for idx,t_ in enumerate(t):\n",
    "    for neuron in lif_neurons:\n",
    "\n",
    "        if t_ < 200*ms:\n",
    "            if neuron.id in poissonConnections:\n",
    "                neuron.Ip = poissonInput[idx] * poissonWeight\n",
    "        else:\n",
    "            if neuron.id in poissonConnections:\n",
    "                neuron.Ip = 0\n",
    "            \n",
    "\n",
    "        neuron.update()\n",
    "\n",
    "        potentials[neuron.id].append(neuron.V)"
   ]
  },
  {
   "cell_type": "code",
   "execution_count": 6,
   "id": "2ba7897f",
   "metadata": {},
   "outputs": [
    {
     "data": {
      "image/png": "[encoded data removed]",
      "text/plain": [
       "<Figure size 360x720 with 16 Axes>"
      ]
     },
     "metadata": {
      "needs_background": "light"
     },
     "output_type": "display_data"
    }
   ],
   "source": [
    "# Plot memebrane potentials of all neurons over time \n",
    "fig,axes = plt.subplots(n,1, figsize=(5,10), sharex=True)\n",
    "\n",
    "for i, ax in enumerate(axes):\n",
    "    ax.plot(t,potentials[i])\n",
    "    ax.set_ylabel(i)\n",
    "    ax.set_ylim(-0.08,0)\n",
    "    ax.set_yticklabels([])\n",
    "    ax.set_yticks([])\n",
    "\n",
    "plt.show()"
   ]
  },
  {
   "cell_type": "markdown",
   "id": "b66aa099",
   "metadata": {},
   "source": [
    "### Basic ring model 2\n",
    "This is a second implementation of the ring-attractor model. Here, the weights between neighbouring neurons are hard coded such that all neurons excite two neurons on either side with a weight of +1 and inhibit the subsequent 3 neurons wiht a weight of -1. All other neurons are unaffected by the focal neuron."
   ]
  },
  {
   "cell_type": "code",
   "execution_count": 7,
   "id": "293ae4ee",
   "metadata": {},
   "outputs": [],
   "source": [
    "class LIFNeuron:\n",
    "    def __init__(self, ID, C=1*nF, V0=-60*mV, Vth=-48*mV, Vr=-80*mV, Vleak=-70*mV, \n",
    "                 Vsyn_ex=0*mV, Vsyn_in=-70*mV, tau_m=20*ms):\n",
    "        # Set the parameters of the LIF neuron\n",
    "        self.id = ID\n",
    "        self.I_ext = 0.0                              # External current\n",
    "        self.C = C                                    # Membrane capacitance\n",
    "        self.Vth = Vth                                # Membrane potential threshold value\n",
    "        self.Vr = Vr                                  # Membrane potential reset value\n",
    "        self.Vleak = Vleak                            # Resting membrane potential / leaky reversal potential\n",
    "        self.Vsyn_ex = Vsyn_ex                        # Excitatory synaptic reversal potential\n",
    "        self.Vsyn_in = Vsyn_in                        # Inhibitory synaptic reversal potential\n",
    "        \n",
    "        self.tau_m = tau_m                            # Membrane time constant\n",
    "        self.tau_ref = 2*ms                           # Refractory period\n",
    "        self.tau_s_ex = 5*ms                          # Excitatory synaptic time constant\n",
    "        self.tau_s_in = 5*ms                          # Inhibitory synaptic time constant\n",
    "        \n",
    "        self.V = Vr                                   # Initial membrane potential\n",
    "        self.dt = 1*ms\n",
    "        self.t_last_spike = 1000*ms                   # Time since last spike\n",
    "        self.k_ex = 1 / (self.tau_s_ex * np.exp(-1))  # Maximum conductance of an excitatory synapse\n",
    "        self.k_in = 1 / (self.tau_s_in * np.exp(-1))  # Maximum conductance of an inhibitory synapse\n",
    "        \n",
    "        self.synapses = {}                            # Outgoing synapses {neuron ID : weight}\n",
    "        \n",
    "        # exc and inh pre-synaptic time delays from last spike, [(time_delay, weight), (...)]\n",
    "        self.in_ps_td = []\n",
    "        self.ex_ps_td = []\n",
    "    \n",
    "    def update(self):\n",
    "        '''Updates the LIF neuron's state for a single time step'''\n",
    "        if self.V == 0.0:\n",
    "            self._hyperpolarize()\n",
    "        elif self.V >= self.Vth:\n",
    "            self._depolarize()\n",
    "        else:\n",
    "            self._updatePotential()\n",
    "            \n",
    "        # Send time delays to connected neurons\n",
    "        for neuron,weight in self.synapses.items():\n",
    "            if weight < 0:\n",
    "                neuron.in_ps_td.append((self.t_last_spike, weight))\n",
    "            if weight > 0:\n",
    "                neuron.ex_ps_td.append((self.t_last_spike, weight))\n",
    "        \n",
    "        self.t_last_spike += self.dt\n",
    "        \n",
    "        self.in_ps_td.clear()\n",
    "        self.ex_ps_td.clear()\n",
    "    \n",
    "    def _updatePotential(self):\n",
    "        '''Update LIF neuron's membrane potential'''\n",
    "        dV = (-self.I_L() - self.I_S_ex() - self.I_S_in() + self.I_ext) / self.C * self.dt\n",
    "        self.V += dV\n",
    "    \n",
    "    def I_L(self):\n",
    "        '''Return leak current'''\n",
    "        return self.C/self.tau_m * (self.V - self.Vleak)\n",
    "\n",
    "    def I_S_ex(self):\n",
    "        '''Return synaptic current received from an excitatory synpase'''\n",
    "        I_s = 0\n",
    "        if self.t_last_spike > self.tau_ref:\n",
    "            for td, w in self.ex_ps_td:\n",
    "                Is = self._gEx(td) * (self.V - self.Vsyn_ex)\n",
    "                Is *= w\n",
    "                I_s += Is\n",
    "\n",
    "        return I_s\n",
    "    \n",
    "    def I_S_in(self):\n",
    "        '''Return synaptic current received from an inhibitory synpase'''\n",
    "        I_s = 0\n",
    "        if self.t_last_spike > self.tau_ref:\n",
    "            for td, w in self.in_ps_td:\n",
    "                Is = self._gIn(td) * (self.V - self.Vsyn_in)\n",
    "                Is *= w\n",
    "                I_s += Is\n",
    "\n",
    "        return I_s\n",
    "    \n",
    "    def _gEx(self, t):\n",
    "        '''Return conductance of an excitatory synapse'''\n",
    "        return self.k_ex * t * np.exp(-t/self.tau_s_ex)\n",
    "\n",
    "    def _gIn(self, t):\n",
    "        '''Return conductance of an inhibitory synapse'''\n",
    "        return self.k_in * t * np.exp(-t/self.tau_s_in)\n",
    "    \n",
    "    def _hyperpolarize(self):\n",
    "        '''Set membrane potential to the reset value if an action potential has just been fired'''\n",
    "        self.V = self.Vr\n",
    "\n",
    "    def _depolarize(self):\n",
    "        '''Set membrane potential to 0 if an action potential has been fired'''\n",
    "        self.V = 0.0\n",
    "        self.receiveActionPotential()\n",
    "            \n",
    "    def receiveActionPotential(self):\n",
    "        '''Reset time since the last spike to 0 once an action potential has been fired'''\n",
    "        self.t_last_spike = 0*ms"
   ]
  },
  {
   "cell_type": "code",
   "execution_count": 8,
   "id": "b30fbfe3",
   "metadata": {},
   "outputs": [
    {
     "name": "stderr",
     "output_type": "stream",
     "text": [
      "/var/folders/ng/l4j590g95vl5r33ctw59y6cr0000gn/T/ipykernel_42147/2477277748.py:54: RuntimeWarning: overflow encountered in double_scalars\n",
      "  dV = (-self.I_L() - self.I_S_ex() - self.I_S_in() + self.I_ext) / self.C * self.dt\n",
      "/var/folders/ng/l4j590g95vl5r33ctw59y6cr0000gn/T/ipykernel_42147/2477277748.py:77: RuntimeWarning: invalid value encountered in double_scalars\n",
      "  Is = self._gIn(td) * (self.V - self.Vsyn_in)\n",
      "/var/folders/ng/l4j590g95vl5r33ctw59y6cr0000gn/T/ipykernel_42147/2477277748.py:54: RuntimeWarning: invalid value encountered in double_scalars\n",
      "  dV = (-self.I_L() - self.I_S_ex() - self.I_S_in() + self.I_ext) / self.C * self.dt\n",
      "/var/folders/ng/l4j590g95vl5r33ctw59y6cr0000gn/T/ipykernel_42147/2477277748.py:66: RuntimeWarning: invalid value encountered in double_scalars\n",
      "  Is = self._gEx(td) * (self.V - self.Vsyn_ex)\n"
     ]
    }
   ],
   "source": [
    "# Number of neurons in the network\n",
    "n = 32\n",
    "\n",
    "# Create an instance of the LIFNeuron class\n",
    "lif_neurons = [LIFNeuron(ID) for ID in range(n)]\n",
    "\n",
    "# Set the time step and the time range\n",
    "t = np.arange(0, 1, ms)\n",
    "\n",
    "# Connect neurons with ring-attractor type weights\n",
    "for neur in lif_neurons:\n",
    "    # All neurons excite other neurons that are within a range of 2 from them\n",
    "    for i in range(1, 3):\n",
    "        neur.synapses[lif_neurons[(neur.id + i) % n]] = 1\n",
    "        neur.synapses[lif_neurons[neur.id - i]] = 1\n",
    "\n",
    "    # All neurons inhibit other neurons that are 3 to 6 spaces away from them\n",
    "    for i in range(3, 7):\n",
    "        neur.synapses[lif_neurons[(neur.id + i) % n]] = -1\n",
    "        neur.synapses[lif_neurons[neur.id - i]] = -1\n",
    "\n",
    "potentials = [[] for _ in range(n)]\n",
    "\n",
    "# Iterate over the time range\n",
    "for t_ in t:\n",
    "    for neuron in lif_neurons:\n",
    "        if neuron.id == 0:\n",
    "            if t_ < 200*ms:\n",
    "                neuron.I_ext = 1.5 * 1e-9\n",
    "            if t_ > 200*ms:\n",
    "                neuron.I_ext = 0\n",
    "\n",
    "        neuron.update()\n",
    "\n",
    "        potentials[neuron.id].append(neuron.V)"
   ]
  },
  {
   "cell_type": "code",
   "execution_count": 9,
   "id": "9f7e2c4b",
   "metadata": {},
   "outputs": [
    {
     "data": {
      "image/png": "[encoded data removed]",
      "text/plain": [
       "<Figure size 360x720 with 32 Axes>"
      ]
     },
     "metadata": {
      "needs_background": "light"
     },
     "output_type": "display_data"
    }
   ],
   "source": [
    "# Plot memebrane potentials of all neurons over time \n",
    "fig,axes = plt.subplots(n,1, figsize=(5,10), sharex=True)\n",
    "\n",
    "for i, ax in enumerate(axes):\n",
    "    ax.plot(t,potentials[i])\n",
    "    ax.set_ylabel(i)\n",
    "    ax.set_ylim(-0.08,0)\n",
    "    ax.set_yticklabels([])\n",
    "    ax.set_yticks([])\n",
    "\n",
    "plt.show()"
   ]
  },
  {
   "cell_type": "code",
   "execution_count": 10,
   "id": "c2639ddf",
   "metadata": {},
   "outputs": [
    {
     "data": {
      "image/png": "[encoded data removed]",
      "text/plain": [
       "<Figure size 432x288 with 1 Axes>"
      ]
     },
     "metadata": {
      "needs_background": "light"
     },
     "output_type": "display_data"
    }
   ],
   "source": [
    "df = pd.DataFrame(potentials)\n",
    "spikes = (df == 0.0).astype(int) * t\n",
    "plt.eventplot(np.array(spikes))\n",
    "plt.show()"
   ]
  },
  {
   "cell_type": "markdown",
   "id": "865d621e",
   "metadata": {},
   "source": [
    "We find that while a basic ring type structure seems implemented here, the neurons overflow and values of the membrane potential shoot up drastically. We will try and remedy this in our next implementation."
   ]
  },
  {
   "cell_type": "code",
   "execution_count": null,
   "id": "1872eb1e",
   "metadata": {},
   "outputs": [],
   "source": []
  }
 ],
 "metadata": {
  "kernelspec": {
   "display_name": "Python 3 (ipykernel)",
   "language": "python",
   "name": "python3"
  },
  "language_info": {
   "codemirror_mode": {
    "name": "ipython",
    "version": 3
   },
   "file_extension": ".py",
   "mimetype": "text/x-python",
   "name": "python",
   "nbconvert_exporter": "python",
   "pygments_lexer": "ipython3",
   "version": "3.8.9"
  }
 },
 "nbformat": 4,
 "nbformat_minor": 5
}
